{
 "cells": [
  {
   "cell_type": "code",
   "execution_count": null,
   "metadata": {},
   "outputs": [],
   "source": [
    "import re\n",
    "from netaddr import *\n",
    "import pprint\n",
    "\n",
    "def Vip(ip_addr):\n",
    "    addr=ip_addr.split('.')\n",
    "    if len(addr)==4:\n",
    "        if 0<int(addr[0])<255 and 0<int(addr[1])<255 and 0<int(addr[2])<255 and 0<int(addr[3])<255:\n",
    "            return True\n",
    "        else:\n",
    "            return False\n",
    "    else:\n",
    "         return False\n",
    "        \n",
    "def VMask(msk):\n",
    "     if re.match(\"\\/(\\b[0-3]?[0-9]\\b)\", msk):\n",
    "        return True\n",
    "     else:\n",
    "        return False\n",
    "          \n",
    "ip =input(\"Enter ip address:\")\n",
    "Vip_ret= Vip(ip)\n",
    "while (Vip_ret) == False : \n",
    "     print (\"Invalid IP address format\")\n",
    "     ip =input(\"Enter ip address:\")\n",
    "     break\n",
    "    \n",
    "mask =input(\"Enter subnet mask in decimal format:\")\n",
    "VMask_ret = VMask(mask)\n",
    "while (VMask_ret) == False : \n",
    "     print (\"Subnet mask is invalid\")\n",
    "     mask =input(\"Enter subnet mask in decimal format:\")\n",
    "     break\n",
    "\n",
    "liste = ip.split('.')\n",
    "print( '{:>10}'.format(liste[0])+'{:>10}'.format(liste[1])+'{:>10}'.format(liste[2])+'{:>10}'.format(liste[3]))\n",
    "print('{:>10}'.format(bin(int(liste[0])).lstrip('-0b').zfill(8)),'{:>10}'.format(bin(int(liste[1])).lstrip('-0b').zfill(8)),'{:>10}'.format(bin(int(liste[2])).lstrip('-0b').zfill(8)),'{:>10}'.format(bin(int(liste[3])).lstrip('-0b').zfill(8)))\n",
    "\n",
    "full_addr=ip+mask\n",
    "inpt=IPNetwork(full_addr)\n",
    "print('network address is: '+str(inpt.network)+'/'+str(inpt.prefixlen))\n",
    "print('broadcast address is: '+str(inpt.broadcast)+'/'+str(inpt.prefixlen))\n",
    "\n",
    "\n",
    " "
   ]
  }
 ],
 "metadata": {
  "kernelspec": {
   "display_name": "Python 3",
   "language": "python",
   "name": "python3"
  },
  "language_info": {
   "codemirror_mode": {
    "name": "ipython",
    "version": 3
   },
   "file_extension": ".py",
   "mimetype": "text/x-python",
   "name": "python",
   "nbconvert_exporter": "python",
   "pygments_lexer": "ipython3",
   "version": "3.6.3"
  }
 },
 "nbformat": 4,
 "nbformat_minor": 2
}
